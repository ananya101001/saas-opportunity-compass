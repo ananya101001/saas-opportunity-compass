{
  "nbformat": 4,
  "nbformat_minor": 0,
  "metadata": {
    "colab": {
      "provenance": []
    },
    "kernelspec": {
      "name": "python3",
      "display_name": "Python 3"
    },
    "language_info": {
      "name": "python"
    }
  },
  "cells": [
    {
      "cell_type": "markdown",
      "source": [
        "**Import Pandas**"
      ],
      "metadata": {
        "id": "wf3LyVYVMf6z"
      }
    },
    {
      "cell_type": "code",
      "source": [
        "import pandas as pd\n",
        "\n",
        "# ----------------------------------------------------\n",
        "# Load Your Data\n",
        "# ----------------------------------------------------\n",
        "df_2020 = pd.read_csv('2020.csv')\n",
        "df_2021 = pd.read_csv('2021.csv')\n",
        "print(\"Successfully loaded 2020.csv and 2021.csv\")\n",
        "\n",
        "\n",
        "# ----------------------------------------------------\n",
        "# Data Cleaning and Preparation Function\n",
        "# ----------------------------------------------------\n",
        "def prepare_dataframe(df, year):\n",
        "    # These are the correct column names from your files\n",
        "    name_column = 'ProductName'\n",
        "    tagline_column = 'TagLine'\n",
        "    topics_column = 'Topic'\n",
        "    votes_column = 'Upvotes'\n",
        "\n",
        "    # Keep only the columns we need\n",
        "    df = df[[name_column, tagline_column, topics_column, votes_column]].copy()\n",
        "\n",
        "    # --- THIS IS THE FIX ---\n",
        "    # Convert the 'Upvotes' column to a numeric type.\n",
        "    # 'coerce' will turn any values that can't be converted into an empty cell (NaN).\n",
        "    df[votes_column] = pd.to_numeric(df[votes_column], errors='coerce')\n",
        "\n",
        "    # Rename columns to a standard format for the rest of the script\n",
        "    df.rename(columns={\n",
        "        name_column: 'name',\n",
        "        tagline_column: 'tagline',\n",
        "        topics_column: 'topics',\n",
        "        votes_column: 'votes_count'\n",
        "    }, inplace=True)\n",
        "\n",
        "    # Extract the first topic as the primary category\n",
        "    df['Primary_Category'] = df['topics'].str.split(',').str[0].str.strip()\n",
        "\n",
        "    # Remove rows with no category or votes (this now also removes the bad data from the 'coerce' step)\n",
        "    df.dropna(subset=['Primary_Category', 'votes_count'], inplace=True)\n",
        "\n",
        "    # Add a year column\n",
        "    df['year'] = year\n",
        "\n",
        "    return df\n",
        "\n",
        "# Run the cleaning function on both dataframes\n",
        "df_2020_clean = prepare_dataframe(df_2020, 2020)\n",
        "df_2021_clean = prepare_dataframe(df_2021, 2021)\n",
        "print(\"Data cleaning complete.\")\n",
        "\n",
        "\n",
        "# ----------------------------------------------------\n",
        "# Feature Engineering - Calculate Growth & Metrics\n",
        "# ----------------------------------------------------\n",
        "# Calculate metrics for 2020\n",
        "metrics_2020 = df_2020_clean.groupby('Primary_Category').agg(\n",
        "    Number_of_Products_2020=('name', 'count'),\n",
        "    Average_Votes_2020=('votes_count', 'mean')\n",
        ").reset_index()\n",
        "\n",
        "# Calculate metrics for 2021\n",
        "metrics_2021 = df_2021_clean.groupby('Primary_Category').agg(\n",
        "    Number_of_Products_2021=('name', 'count'),\n",
        "    Average_Votes_2021=('votes_count', 'mean')\n",
        ").reset_index()\n",
        "\n",
        "# Merge the data from both years\n",
        "df_final = pd.merge(metrics_2020, metrics_2021, on='Primary_Category', how='outer')\n",
        "df_final.fillna(0, inplace=True)\n",
        "\n",
        "# Calculate Year-over-Year Growth Rate\n",
        "df_final['YoY_Growth_Rate'] = ((df_final['Number_of_Products_2021'] - df_final['Number_of_Products_2020']) / (df_final['Number_of_Products_2020'] + 1)) * 100\n",
        "df_final['Average_Votes_2021'] = df_final['Average_Votes_2021'].round(0)\n",
        "print(\"Feature engineering complete.\")\n",
        "\n",
        "\n",
        "# ----------------------------------------------------\n",
        "# Finalize and Save the Engineered Data\n",
        "# ----------------------------------------------------\n",
        "# Select and rename final columns for Plotly Studio\n",
        "output_columns = [\n",
        "    'Primary_Category', 'Number_of_Products_2021', 'Average_Votes_2021', 'YoY_Growth_Rate'\n",
        "]\n",
        "engineered_df = df_final[output_columns]\n",
        "\n",
        "engineered_df = engineered_df.rename(columns={\n",
        "    'Number_of_Products_2021': 'Number_of_Products',\n",
        "    'Average_Votes_2021': 'Average_Votes'\n",
        "})\n",
        "\n",
        "# Save the final DataFrame to a new CSV file\n",
        "engineered_df.to_csv('engineered_data.csv', index=False)\n",
        "\n",
        "print(\"\\n Success! Your 'engineered_data.csv' file is ready.\")\n",
        "print(\"Download it from the file browser on the left, then upload it to Plotly Studio.\")"
      ],
      "metadata": {
        "colab": {
          "base_uri": "https://localhost:8080/"
        },
        "id": "2loVS8BHMp50",
        "outputId": "791a02f8-4cfa-40d2-de0f-5330c51b0485"
      },
      "execution_count": 9,
      "outputs": [
        {
          "output_type": "stream",
          "name": "stdout",
          "text": [
            "Successfully loaded 2020.csv and 2021.csv\n",
            "Data cleaning complete.\n",
            "Feature engineering complete.\n",
            "\n",
            " Success! Your 'engineered_data.csv' file is ready.\n",
            "Download it from the file browser on the left, then upload it to Plotly Studio.\n"
          ]
        }
      ]
    }
  ]
}